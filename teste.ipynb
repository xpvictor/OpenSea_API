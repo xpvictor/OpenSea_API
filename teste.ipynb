{
 "cells": [
  {
   "cell_type": "code",
   "execution_count": 2,
   "metadata": {},
   "outputs": [],
   "source": [
    "import requests\n",
    "import json\n",
    "import pandas as pd\n",
    "from pyspark.sql.functions import col, explode_outer\n",
    "from opensea import OpenseaAPI\n"
   ]
  },
  {
   "cell_type": "code",
   "execution_count": 3,
   "metadata": {},
   "outputs": [
    {
     "name": "stdout",
     "output_type": "stream",
     "text": [
      "['LXBrPTE4ODI3MTg3NTQ=', 'LXBrPTE4NzgyMDA5NDk=', 'LXBrPTE4NzM3MjM2ODE=', 'LXBrPTE4NzM3MjE3NTk=', 'LXBrPTE4NzM3MTkyOTU=', 'LXBrPTE4NzM2MTUyMTI=', 'LXBrPTE4NzIzNTg1NTc=', 'LXBrPTE4NzIyNDEwNDE=', 'LXBrPTE4NzIxMTUwNTU=', 'LXBrPTE4NzA5MTUyMjg=', 'LXBrPTE4NjIzNjEwOTQ=', 'LXBrPTE4NjIxOTU2NDk=', 'LXBrPTE4NjEyMzA2MjE=', 'LXBrPTE4NjEyMjMxNTI=', 'LXBrPTE4NjExOTQxNDc=', 'LXBrPTE4NjA2ODM5NDQ=', 'LXBrPTE4NjA2NjgwODg=', 'LXBrPTE4NTgyOTAyMjI=', 'LXBrPTE4NTU0MTQ0MDQ=', 'LXBrPTE4NTU0MTI4MzU=', 'LXBrPTE4NTU0MTI3ODI=', 'LXBrPTE4Mzk3MjY2MzQ=', 'LXBrPTE4Mzg3NDAzMzY=', 'LXBrPTE4Mzc5MDUzOTU=', 'LXBrPTE4Mzc2MzkyNTc=', 'LXBrPTE4Mzc0OTE5NDI=', 'LXBrPTE4Mzc0ODk4MzI=', 'LXBrPTE4Mzc0ODIwNzQ=', 'LXBrPTE4Mzc0ODAwNTM=', 'LXBrPTE4Mzc0NTcyMzE=', 'LXBrPTE4MzMxNDEyNzU=', 'LXBrPTE4MzAzNDk3MDk=', 'LXBrPTE4MzAzNDc2NzQ=', 'LXBrPTE4Mjg4MDg5Mjk=', 'LXBrPTE4MjYzNDI5MjY=', 'LXBrPTE4MjYzMTA0Mzk=', 'LXBrPTE4MjYzMDI1MjQ=', 'LXBrPTE4MjYwMzk1OTM=', 'LXBrPTE4MjU3OTkwNTA=', 'LXBrPTE4MjQ5NTAyNTM=', 'LXBrPTE4MjQ5MTY5MjY=', 'LXBrPTE4MjQ4NTY3NDc=', 'LXBrPTE4MTYyMDA2MTg=', 'LXBrPTE4MTYxMDIzNjI=', 'LXBrPTE4MTQzNTYwMTk=', 'LXBrPTE4MTA5OTMwNDU=', 'LXBrPTE4MTA3NTQ3MzY=', 'LXBrPTE4MTA3MjkxNDY=', 'LXBrPTE4MTAzMzAwNTE=', 'LXBrPTE4MTAyNTQ4MzQ=', 'LXBrPTE4MTAyNTQ3ODQ=', 'LXBrPTE4MDkyMTgxNDY=', 'LXBrPTE4MDkyMTc1NzQ=', 'LXBrPTE4MDkyMTY5NjE=', 'LXBrPTE4MDkyMTYzODY=', 'LXBrPTE4MDkyMTU2MzI=', 'LXBrPTE4MDkyMTUwNzY=', 'LXBrPTE4MDkyMTEzNjg=', 'LXBrPTE4MDkyMTA3OTg=', 'LXBrPTE4MDkyMDMyNzA=', 'LXBrPTE4MDkxOTIzNDc=', 'LXBrPTE4MDkxODE3MTk=', 'LXBrPTE4MDkxODA4ODI=', 'LXBrPTE4MDkxNzU2MDI=', 'LXBrPTE4MDkxNjg4MDg=', 'LXBrPTE4MDkxNjI1MjI=', 'LXBrPTE4MDkxNTQ4MTE=', 'LXBrPTE4MDg5MDYwNTI=', 'LXBrPTE4MDg0NDYxNDY=', 'LXBrPTE4MDc4MjYwNDM=', 'LXBrPTE4MDc2NDI1Nzg=', 'LXBrPTE4MDc2Mjg5NzM=', 'LXBrPTE4MDc2MjU0MzU=', 'LXBrPTE4MDc0NDk2MDA=', 'LXBrPTE4MDc0NDU1OTA=', 'LXBrPTE4MDczMjUzOTU=', 'LXBrPTE4MDcwNTIyNTI=', 'LXBrPTE4MDcwMTE5NDQ=', 'LXBrPTE4MDY5NTMwNTc=', 'LXBrPTE4MDY4MTY2MTc=', 'LXBrPTE4MDY3NzYzMDk=', 'LXBrPTE4MDY3MTc3NTY=', 'LXBrPTE4MDY1MTY4Njk=', 'LXBrPTE4MDYxNTc2Mjc=', 'LXBrPTE4MDU4OTk2OTM=', 'LXBrPTE4MDU4NDMyMDA=', 'LXBrPTE4MDU4NDExOTk=', 'LXBrPTE4MDU4MzY3ODk=', 'LXBrPTE4MDU4MDc3MDM=', 'LXBrPTE4MDU3OTAxOTI=', 'LXBrPTE4MDU3ODgwMDE=', 'LXBrPTE4MDU3Nzc0NjQ=', 'LXBrPTE4MDU3Njc5Nzg=', 'LXBrPTE4MDU3NjMyNTc=', 'LXBrPTE4MDU1MjgxNzQ=', 'LXBrPTE4MDQzNTc4Nzk=', 'LXBrPTE4MDM2ODM4ODA=', 'LXBrPTE4MDM2MjMzODk=', 'LXBrPTE4MDM2MDM3MzU=', 'LXBrPTE4MDM1NjUyMjk=', 'LXBrPTE4MDM1NTU2NDk=']\n"
     ]
    }
   ],
   "source": [
    "slug_collection = 'boredape-baseclub'\n",
    "\n",
    "url = f'https://api.opensea.io/api/v2/collection/{slug_collection}/nfts?imit=200'\n",
    "api_key = '0e3fb24ae2554e6083584b725341146c'\n",
    "\n",
    "headers = {\n",
    "    \"accept\": \"application/json\",\n",
    "    \"x-api-key\": api_key\n",
    "}\n",
    "\n",
    "def main_request(url, x, headers): #Função responsável por realizar o request na API em formato JSON\n",
    "    response = requests.get(url + f'&next={x}', headers=headers)\n",
    "    return response.json()\n",
    "\n",
    "def list_pagination():\n",
    "    request_inicial = data\n",
    "    current_pagination = 'LXBrPTE4ODI3MTg3NTQ='\n",
    "    next_pagination = request_inicial['next'] \n",
    "    list_page = [current_pagination]\n",
    "    contador = 0 #limitando a quantidade de requisições para gerar a lista de paginação\n",
    "\n",
    "    while contador < 100 and current_pagination != next_pagination: \n",
    "        current_pagination = next_pagination \n",
    "        next_pagination = main_request(url,next_pagination,headers)['next'] \n",
    "        list_page.append(next_pagination)\n",
    "        contador +=1\n",
    "    return list_page\n",
    "\n",
    "data = main_request(url,'LXBrPTE4ODI3MTg3NTQ=', headers)\n",
    "\n",
    "print(list_pagination())\n",
    "\n",
    "\n",
    "\n",
    "\n"
   ]
  }
 ],
 "metadata": {
  "kernelspec": {
   "display_name": "Python 3",
   "language": "python",
   "name": "python3"
  },
  "language_info": {
   "codemirror_mode": {
    "name": "ipython",
    "version": 3
   },
   "file_extension": ".py",
   "mimetype": "text/x-python",
   "name": "python",
   "nbconvert_exporter": "python",
   "pygments_lexer": "ipython3",
   "version": "3.13.0"
  }
 },
 "nbformat": 4,
 "nbformat_minor": 2
}
