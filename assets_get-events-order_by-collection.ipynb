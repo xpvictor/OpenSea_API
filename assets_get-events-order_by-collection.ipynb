{
 "cells": [
  {
   "cell_type": "code",
   "execution_count": null,
   "metadata": {},
   "outputs": [],
   "source": [
    "import requests\n",
    "import json\n",
    "import pandas as pd\n",
    "import time\n",
    "from dotenv import load_dotenv\n",
    "import os\n",
    "import re\n",
    "from datetime import datetime"
   ]
  },
  {
   "cell_type": "code",
   "execution_count": null,
   "metadata": {},
   "outputs": [],
   "source": [
    "load_dotenv() #add external key request for user access\n",
    "\n",
    "slug_collection = 'boredape-baseclub'\n",
    "initial_token = 'LWV2ZW50X3RpbWVzdGFtcD0yMDI1LTAyLTExKzEyJTNBMTQlM0EzNi40NzQ4ODkmLWV2ZW50X3R5cGU9Y29sbGVjdGlvbl9vZmZlciYtcGs9MzE5Nzc0MTM2Nzk='\n",
    " #first pagination \n",
    "event_type = 'order'\n",
    "limit_request = 50\n",
    "\n",
    "url = f'https://api.opensea.io/api/v2/events/collection/{slug_collection}?event_type={event_type}&limit={limit_request}'\n",
    "api_key = os.getenv('api_key')\n",
    "\n",
    "headers = {\n",
    "  \"accept\": \"application/json\",\n",
    "    \"x-api-key\": api_key  \n",
    "}"
   ]
  },
  {
   "cell_type": "code",
   "execution_count": 6,
   "metadata": {},
   "outputs": [],
   "source": [
    "def main_request(url, pagination_token, headers): \n",
    "    try:\n",
    "        response = requests.get(url + f'&next={pagination_token}', headers=headers)\n",
    "        response.raise_for_status()\n",
    "        return response.json()\n",
    "    except requests.exceptions.RequestException as e:\n",
    "        print(f\"Erro na requisição: {e}\")\n",
    "        return None"
   ]
  },
  {
   "cell_type": "code",
   "execution_count": null,
   "metadata": {},
   "outputs": [],
   "source": [
    "def processar_lotes(batch_size=2, delay=10,max_requests=50):\n",
    "    current_token = initial_token\n",
    "    batch_number = 1\n",
    "    total_paginas_processadas = 0\n",
    "\n",
    "    while True:\n",
    "        all_events = []\n",
    "        request_count = 0\n",
    "\n",
    "        for _ in range(batch_size):\n",
    "            data = main_request(url,current_token, headers)\n",
    "            if not data or 'asset_events' not in data:\n",
    "                print(\"Fim dos dados ou erro na resposta\")\n",
    "                return\n",
    "            \n",
    "            all_events.extend(data['asset_events'])\n",
    "            next_token = data.get('next', None)\n",
    "\n",
    "            if not next_token or next_token == current_token:\n",
    "                print(\"Não há mais páginas\")\n",
    "                if all_events:\n",
    "                    timestamp = datetime.now().strftime(\"%Y%m%d_%H%M%S\")\n",
    "                    filename = f\"events_batch_{batch_number}_{timestamp}.json\"\n",
    "                    with open(filename, 'w') as f:\n",
    "                        json.dump(all_events, f)\n",
    "                    print(f\"✅ Lote final salvo em {filename} (Eventos: {len(all_events)})\")\n",
    "                return  # Encerra a função\n",
    "\n",
    "            current_token = next_token\n",
    "            request_count += 1\n",
    "            total_paginas_processadas += 1\n",
    "\n",
    "            # Pausa após um número de requisições\n",
    "            if request_count % max_requests == 0:\n",
    "                print(f\"⏸ Pausa de {delay} segundos...\")\n",
    "                time.sleep(delay)\n",
    "\n",
    "        # Salva o lote em JSON\n",
    "        timestamp = datetime.now().strftime(\"%Y%m%d_%H%M%S\")\n",
    "        filename = f\"events_batch_{batch_number}_{timestamp}.json\"\n",
    "        with open(filename, 'w') as f:\n",
    "            json.dump(all_events, f)\n",
    "        print(f\"✅ Lote {batch_number} salvo em {filename} (Eventos: {len(all_events)})\")\n",
    "\n",
    "        batch_number += 1\n",
    "        time.sleep(delay)  # Pausa entre lotes \n",
    "\n",
    "processar_lotes(batch_size=2, delay=10, max_requests=10)\n",
    "\n"
   ]
  }
 ],
 "metadata": {
  "kernelspec": {
   "display_name": "Python 3",
   "language": "python",
   "name": "python3"
  },
  "language_info": {
   "codemirror_mode": {
    "name": "ipython",
    "version": 3
   },
   "file_extension": ".py",
   "mimetype": "text/x-python",
   "name": "python",
   "nbconvert_exporter": "python",
   "pygments_lexer": "ipython3",
   "version": "3.13.0"
  }
 },
 "nbformat": 4,
 "nbformat_minor": 2
}
