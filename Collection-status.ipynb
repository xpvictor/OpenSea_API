{
 "cells": [
  {
   "cell_type": "code",
   "execution_count": 11,
   "metadata": {},
   "outputs": [],
   "source": [
    "import requests\n",
    "import json\n",
    "import pandas as pd\n",
    "import time\n",
    "from dotenv import load_dotenv\n",
    "import os \n",
    "import re\n"
   ]
  },
  {
   "cell_type": "code",
   "execution_count": 4,
   "metadata": {},
   "outputs": [],
   "source": [
    "load_dotenv()\n",
    "slug_collection = 'boredape-baseclub'\n",
    "\n",
    "url = f'https://api.opensea.io/api/v2/collections/{slug_collection}/stats'\n",
    "api_key = os.getenv('api_key')\n",
    "\n",
    "headers = {\n",
    "    \"accept\" : \"application/json\",\n",
    "    \"x-api-key\": api_key\n",
    "}"
   ]
  },
  {
   "cell_type": "code",
   "execution_count": null,
   "metadata": {},
   "outputs": [],
   "source": [
    "try:\n",
    "    response = requests.get(url, headers=headers).json()\n",
    "    #response.raise_for_status()\n",
    "    print(response)\n",
    "except requests.exceptions.RequestException as e:\n",
    "    print(f\"Erro na requisição: {e}\")\n",
    "    "
   ]
  },
  {
   "cell_type": "code",
   "execution_count": 37,
   "metadata": {},
   "outputs": [
    {
     "data": {
      "text/html": [
       "<div>\n",
       "<style scoped>\n",
       "    .dataframe tbody tr th:only-of-type {\n",
       "        vertical-align: middle;\n",
       "    }\n",
       "\n",
       "    .dataframe tbody tr th {\n",
       "        vertical-align: top;\n",
       "    }\n",
       "\n",
       "    .dataframe thead th {\n",
       "        text-align: right;\n",
       "    }\n",
       "</style>\n",
       "<table border=\"1\" class=\"dataframe\">\n",
       "  <thead>\n",
       "    <tr style=\"text-align: right;\">\n",
       "      <th></th>\n",
       "      <th>volume</th>\n",
       "      <th>sales</th>\n",
       "      <th>average_price</th>\n",
       "      <th>num_owners</th>\n",
       "      <th>market_cap</th>\n",
       "      <th>floor_price</th>\n",
       "      <th>floor_price_symbol</th>\n",
       "      <th>volume - USD</th>\n",
       "      <th>floor_price - USD</th>\n",
       "      <th>collection</th>\n",
       "    </tr>\n",
       "  </thead>\n",
       "  <tbody>\n",
       "    <tr>\n",
       "      <th>0</th>\n",
       "      <td>60.534992</td>\n",
       "      <td>16534</td>\n",
       "      <td>0.003661</td>\n",
       "      <td>591</td>\n",
       "      <td>47.770834</td>\n",
       "      <td>0.006</td>\n",
       "      <td>ETH</td>\n",
       "      <td>159673.15</td>\n",
       "      <td>15.83</td>\n",
       "      <td>boredape-baseclub</td>\n",
       "    </tr>\n",
       "  </tbody>\n",
       "</table>\n",
       "</div>"
      ],
      "text/plain": [
       "      volume  sales  average_price  num_owners  market_cap  floor_price  \\\n",
       "0  60.534992  16534       0.003661         591   47.770834        0.006   \n",
       "\n",
       "  floor_price_symbol  volume - USD  floor_price - USD         collection  \n",
       "0                ETH     159673.15              15.83  boredape-baseclub  "
      ]
     },
     "metadata": {},
     "output_type": "display_data"
    }
   ],
   "source": [
    "df_total_status = pd.json_normalize(response['total'])\n",
    "#$2,637.70 USD (ETH price 2025-02-09)\n",
    "eth_price = 2637.7\n",
    "df_total_status['volume - USD'] = (df_total_status['volume'] * eth_price).round(2)\n",
    "df_total_status ['floor_price - USD'] = (df_total_status['floor_price'] * eth_price).round(2)\n",
    "df_total_status['collection'] = slug_collection\n",
    "display(df_total_status)"
   ]
  }
 ],
 "metadata": {
  "kernelspec": {
   "display_name": "Python 3",
   "language": "python",
   "name": "python3"
  },
  "language_info": {
   "codemirror_mode": {
    "name": "ipython",
    "version": 3
   },
   "file_extension": ".py",
   "mimetype": "text/x-python",
   "name": "python",
   "nbconvert_exporter": "python",
   "pygments_lexer": "ipython3",
   "version": "3.13.0"
  }
 },
 "nbformat": 4,
 "nbformat_minor": 2
}
