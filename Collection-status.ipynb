{
 "cells": [
  {
   "cell_type": "markdown",
   "metadata": {},
   "source": [
    "<h4> File responsible for collect overview collection status"
   ]
  },
  {
   "cell_type": "code",
   "execution_count": 1,
   "metadata": {},
   "outputs": [],
   "source": [
    "import requests\n",
    "import json\n",
    "import pandas as pd\n",
    "import time\n",
    "from dotenv import load_dotenv\n",
    "import os \n",
    "import re\n"
   ]
  },
  {
   "cell_type": "code",
   "execution_count": 2,
   "metadata": {},
   "outputs": [],
   "source": [
    "load_dotenv()\n",
    "slug_collection = 'boredapeyachtclub'\n",
    "api_key = os.getenv('api_key')\n",
    "\n",
    "url_stats = f'https://api.opensea.io/api/v2/collections/{slug_collection}/stats'\n",
    "url_nft_overview = f\"https://api.opensea.io/api/v2/collections/{slug_collection}\"\n",
    "headers = {\n",
    "    \"accept\" : \"application/json\",\n",
    "    \"x-api-key\": api_key\n",
    "}"
   ]
  },
  {
   "cell_type": "markdown",
   "metadata": {},
   "source": [
    "<h5> Request stats"
   ]
  },
  {
   "cell_type": "code",
   "execution_count": 3,
   "metadata": {},
   "outputs": [
    {
     "name": "stdout",
     "output_type": "stream",
     "text": [
      "{'total': {'volume': 1597939.8636721722, 'sales': 55073, 'average_price': 29.014941326460736, 'num_owners': 5376, 'market_cap': 133248.89262871238, 'floor_price': 13.1, 'floor_price_symbol': 'ETH'}, 'intervals': [{'interval': 'one_day', 'volume': 104.94799, 'volume_diff': -63.0, 'volume_change': -0.8837066320552495, 'sales': 8, 'sales_diff': -0.8873239436619719, 'average_price': 13.11849875}, {'interval': 'seven_day', 'volume': 2665.7775858500027, 'volume_diff': 118.0, 'volume_change': 1.3469728034118018, 'sales': 200, 'sales_diff': 0.0, 'average_price': 13.328887929250014}, {'interval': 'thirty_day', 'volume': 6098.88812555, 'volume_diff': 195.0, 'volume_change': 0.48316111557592806, 'sales': 454, 'sales_diff': 0.0, 'average_price': 13.433674285352422}]}\n"
     ]
    }
   ],
   "source": [
    "try:\n",
    "    response_stats = requests.get(url_stats, headers=headers).json()\n",
    "    #response.raise_for_status()\n",
    "    print(response_stats)\n",
    "except requests.exceptions.RequestException as e:\n",
    "    print(f\"Erro na requisição: {e}\")\n",
    "    "
   ]
  },
  {
   "cell_type": "markdown",
   "metadata": {},
   "source": [
    "<h5> Request nft collection overview"
   ]
  },
  {
   "cell_type": "code",
   "execution_count": 4,
   "metadata": {},
   "outputs": [
    {
     "name": "stdout",
     "output_type": "stream",
     "text": [
      "{'collection': 'boredapeyachtclub', 'name': 'Bored Ape Yacht Club', 'description': 'The Bored Ape Yacht Club is a collection of 10,000 unique Bored Ape NFTs— unique digital collectibles living on the Ethereum blockchain. Your Bored Ape doubles as your Yacht Club membership card, and grants access to members-only benefits, the first of which is access to THE BATHROOM, a collaborative graffiti board. Future areas and perks can be unlocked by the community through roadmap activation. Visit www.BoredApeYachtClub.com for more details.', 'image_url': 'https://i.seadn.io/gae/Ju9CkWtV-1Okvf45wo8UctR-M9He2PjILP0oOvxE89AyiPPGtrR3gysu1Zgy0hjd2xKIgjJJtWIc0ybj4Vd7wv8t3pxDGHoJBzDB?w=500&auto=format', 'banner_image_url': 'https://i.seadn.io/gae/i5dYZRkVCUK97bfprQ3WXyrT9BnLSZtVKGJlKQ919uaUB0sxbngVCioaiyu9r6snqfi2aaTyIvv6DHm4m2R3y7hMajbsv14pSZK8mhs?w=500&auto=format', 'owner': '0xa858ddc0445d8131dac4d1de01f834ffcba52ef1', 'safelist_status': 'verified', 'category': 'pfps', 'is_disabled': False, 'is_nsfw': False, 'trait_offers_enabled': True, 'collection_offers_enabled': True, 'opensea_url': 'https://opensea.io/collection/boredapeyachtclub', 'project_url': 'http://www.boredapeyachtclub.com/', 'wiki_url': '', 'discord_url': 'https://discord.gg/3P5K3dzgdB', 'telegram_url': '', 'twitter_username': 'BoredApeYC', 'instagram_username': '', 'contracts': [{'address': '0xbc4ca0eda7647a8ab7c2061c2e118a18a936f13d', 'chain': 'ethereum'}], 'editors': ['0xa858ddc0445d8131dac4d1de01f834ffcba52ef1', '0x0000000000000000000000000000000000000000', '0xc489b60e161737c64ac2ee4e85d055cfbf10bad5'], 'fees': [{'fee': 0.5, 'recipient': '0x0000a26b00c1f0df003000390027140000faa719', 'required': True}, {'fee': 1.0, 'recipient': '0xa858ddc0445d8131dac4d1de01f834ffcba52ef1', 'required': False}], 'rarity': {'strategy_id': 'openrarity', 'strategy_version': '0.4.3b0', 'calculated_at': '2022-09-21T12:18:03.321743', 'max_rank': 10000, 'tokens_scored': 10000}, 'payment_tokens': [{'symbol': 'ETH', 'address': '0x0000000000000000000000000000000000000000', 'chain': 'ethereum', 'image': 'https://raw.seadn.io/files/ETH.svg', 'name': 'Ether', 'decimals': 18, 'eth_price': '1.000000000000000', 'usd_price': '2726.420000000000073000'}, {'symbol': 'WETH', 'address': '0xc02aaa39b223fe8d0a0e5c4f27ead9083c756cc2', 'chain': 'ethereum', 'image': 'https://raw.seadn.io/files/WETH.svg', 'name': 'Wrapped Ether', 'decimals': 18, 'eth_price': '1.000000000000000', 'usd_price': '2726.739999999999782000'}, {'symbol': 'USDC', 'address': '0xa0b86991c6218b36c1d19d4a2e9eb0ce3606eb48', 'chain': 'ethereum', 'image': 'https://raw.seadn.io/files/USDC.svg', 'name': 'USD Coin', 'decimals': 6, 'eth_price': '0.000366730000000', 'usd_price': '0.999905000000000000'}, {'symbol': 'APE', 'address': '0x4d224452801aced8b2f0aebe155379bb5d594381', 'chain': 'ethereum', 'image': 'https://raw.seadn.io/files/APE.svg', 'name': 'ApeCoin', 'decimals': 18, 'eth_price': '0.000248670000000', 'usd_price': '0.678003000000000000'}], 'total_supply': 9997, 'created_date': '2021-04-22'}\n"
     ]
    }
   ],
   "source": [
    "try:\n",
    "    response_overview = requests.get(url_nft_overview, headers=headers).json()\n",
    "    #response.raise_for_status()\n",
    "    print(response_overview)\n",
    "except requests.exceptions.RequestException as e:\n",
    "    print(f\"Erro na requisição: {e}\")\n",
    "    "
   ]
  },
  {
   "cell_type": "markdown",
   "metadata": {},
   "source": [
    "<p> Creating dataframe with collection stats"
   ]
  },
  {
   "cell_type": "code",
   "execution_count": 5,
   "metadata": {},
   "outputs": [
    {
     "data": {
      "text/html": [
       "<div>\n",
       "<style scoped>\n",
       "    .dataframe tbody tr th:only-of-type {\n",
       "        vertical-align: middle;\n",
       "    }\n",
       "\n",
       "    .dataframe tbody tr th {\n",
       "        vertical-align: top;\n",
       "    }\n",
       "\n",
       "    .dataframe thead th {\n",
       "        text-align: right;\n",
       "    }\n",
       "</style>\n",
       "<table border=\"1\" class=\"dataframe\">\n",
       "  <thead>\n",
       "    <tr style=\"text-align: right;\">\n",
       "      <th></th>\n",
       "      <th>volume</th>\n",
       "      <th>sales</th>\n",
       "      <th>average_price</th>\n",
       "      <th>num_owners</th>\n",
       "      <th>market_cap</th>\n",
       "      <th>floor_price</th>\n",
       "      <th>floor_price_symbol</th>\n",
       "      <th>volume - USD</th>\n",
       "      <th>floor_price - USD</th>\n",
       "      <th>collection</th>\n",
       "    </tr>\n",
       "  </thead>\n",
       "  <tbody>\n",
       "    <tr>\n",
       "      <th>0</th>\n",
       "      <td>1.597940e+06</td>\n",
       "      <td>55073</td>\n",
       "      <td>29.014941</td>\n",
       "      <td>5376</td>\n",
       "      <td>133248.892629</td>\n",
       "      <td>13.1</td>\n",
       "      <td>ETH</td>\n",
       "      <td>4.214886e+09</td>\n",
       "      <td>34553.87</td>\n",
       "      <td>boredapeyachtclub</td>\n",
       "    </tr>\n",
       "  </tbody>\n",
       "</table>\n",
       "</div>"
      ],
      "text/plain": [
       "         volume  sales  average_price  num_owners     market_cap  floor_price  \\\n",
       "0  1.597940e+06  55073      29.014941        5376  133248.892629         13.1   \n",
       "\n",
       "  floor_price_symbol  volume - USD  floor_price - USD         collection  \n",
       "0                ETH  4.214886e+09           34553.87  boredapeyachtclub  "
      ]
     },
     "metadata": {},
     "output_type": "display_data"
    }
   ],
   "source": [
    "df_total_status = pd.json_normalize(response_stats['total'])\n",
    "#$2,637.70 USD (ETH price 2025-02-09)\n",
    "eth_price = 2637.7\n",
    "df_total_status['volume - USD'] = (df_total_status['volume'] * eth_price).round(2)\n",
    "df_total_status ['floor_price - USD'] = (df_total_status['floor_price'] * eth_price).round(2)\n",
    "df_total_status['collection'] = slug_collection\n",
    "display(df_total_status)"
   ]
  },
  {
   "cell_type": "markdown",
   "metadata": {},
   "source": [
    "<p> Creating dataframe with collection overview"
   ]
  },
  {
   "cell_type": "code",
   "execution_count": 6,
   "metadata": {},
   "outputs": [
    {
     "data": {
      "text/html": [
       "<div>\n",
       "<style scoped>\n",
       "    .dataframe tbody tr th:only-of-type {\n",
       "        vertical-align: middle;\n",
       "    }\n",
       "\n",
       "    .dataframe tbody tr th {\n",
       "        vertical-align: top;\n",
       "    }\n",
       "\n",
       "    .dataframe thead th {\n",
       "        text-align: right;\n",
       "    }\n",
       "</style>\n",
       "<table border=\"1\" class=\"dataframe\">\n",
       "  <thead>\n",
       "    <tr style=\"text-align: right;\">\n",
       "      <th></th>\n",
       "      <th>collection</th>\n",
       "      <th>name</th>\n",
       "      <th>description</th>\n",
       "      <th>image_url</th>\n",
       "      <th>banner_image_url</th>\n",
       "      <th>owner</th>\n",
       "      <th>safelist_status</th>\n",
       "      <th>category</th>\n",
       "      <th>is_disabled</th>\n",
       "      <th>is_nsfw</th>\n",
       "      <th>...</th>\n",
       "      <th>editors</th>\n",
       "      <th>fees</th>\n",
       "      <th>payment_tokens</th>\n",
       "      <th>total_supply</th>\n",
       "      <th>created_date</th>\n",
       "      <th>rarity.strategy_id</th>\n",
       "      <th>rarity.strategy_version</th>\n",
       "      <th>rarity.calculated_at</th>\n",
       "      <th>rarity.max_rank</th>\n",
       "      <th>rarity.tokens_scored</th>\n",
       "    </tr>\n",
       "  </thead>\n",
       "  <tbody>\n",
       "    <tr>\n",
       "      <th>0</th>\n",
       "      <td>boredapeyachtclub</td>\n",
       "      <td>Bored Ape Yacht Club</td>\n",
       "      <td>The Bored Ape Yacht Club is a collection of 10...</td>\n",
       "      <td>https://i.seadn.io/gae/Ju9CkWtV-1Okvf45wo8UctR...</td>\n",
       "      <td>https://i.seadn.io/gae/i5dYZRkVCUK97bfprQ3WXyr...</td>\n",
       "      <td>0xa858ddc0445d8131dac4d1de01f834ffcba52ef1</td>\n",
       "      <td>verified</td>\n",
       "      <td>pfps</td>\n",
       "      <td>False</td>\n",
       "      <td>False</td>\n",
       "      <td>...</td>\n",
       "      <td>[0xa858ddc0445d8131dac4d1de01f834ffcba52ef1, 0...</td>\n",
       "      <td>[{'fee': 0.5, 'recipient': '0x0000a26b00c1f0df...</td>\n",
       "      <td>[{'symbol': 'ETH', 'address': '0x0000000000000...</td>\n",
       "      <td>9997</td>\n",
       "      <td>2021-04-22</td>\n",
       "      <td>openrarity</td>\n",
       "      <td>0.4.3b0</td>\n",
       "      <td>2022-09-21T12:18:03.321743</td>\n",
       "      <td>10000</td>\n",
       "      <td>10000</td>\n",
       "    </tr>\n",
       "  </tbody>\n",
       "</table>\n",
       "<p>1 rows × 30 columns</p>\n",
       "</div>"
      ],
      "text/plain": [
       "          collection                  name  \\\n",
       "0  boredapeyachtclub  Bored Ape Yacht Club   \n",
       "\n",
       "                                         description  \\\n",
       "0  The Bored Ape Yacht Club is a collection of 10...   \n",
       "\n",
       "                                           image_url  \\\n",
       "0  https://i.seadn.io/gae/Ju9CkWtV-1Okvf45wo8UctR...   \n",
       "\n",
       "                                    banner_image_url  \\\n",
       "0  https://i.seadn.io/gae/i5dYZRkVCUK97bfprQ3WXyr...   \n",
       "\n",
       "                                        owner safelist_status category  \\\n",
       "0  0xa858ddc0445d8131dac4d1de01f834ffcba52ef1        verified     pfps   \n",
       "\n",
       "   is_disabled  is_nsfw  ...  \\\n",
       "0        False    False  ...   \n",
       "\n",
       "                                             editors  \\\n",
       "0  [0xa858ddc0445d8131dac4d1de01f834ffcba52ef1, 0...   \n",
       "\n",
       "                                                fees  \\\n",
       "0  [{'fee': 0.5, 'recipient': '0x0000a26b00c1f0df...   \n",
       "\n",
       "                                      payment_tokens total_supply  \\\n",
       "0  [{'symbol': 'ETH', 'address': '0x0000000000000...         9997   \n",
       "\n",
       "  created_date rarity.strategy_id rarity.strategy_version  \\\n",
       "0   2021-04-22         openrarity                 0.4.3b0   \n",
       "\n",
       "         rarity.calculated_at rarity.max_rank rarity.tokens_scored  \n",
       "0  2022-09-21T12:18:03.321743           10000                10000  \n",
       "\n",
       "[1 rows x 30 columns]"
      ]
     },
     "metadata": {},
     "output_type": "display_data"
    }
   ],
   "source": [
    "df_overview = pd.json_normalize(response_overview)\n",
    "display(df_overview)"
   ]
  },
  {
   "cell_type": "code",
   "execution_count": 7,
   "metadata": {},
   "outputs": [],
   "source": [
    "df_overview_status = df_total_status.merge(df_overview, on=\"collection\",how=\"left\")\n"
   ]
  },
  {
   "cell_type": "code",
   "execution_count": 8,
   "metadata": {},
   "outputs": [],
   "source": [
    "def sanitize_filename(name):\n",
    "    return re.sub(r'[\\\\/:*?\"<>|]', '', name)\n",
    "\n",
    "safe_slug = sanitize_filename(slug_collection)\n",
    "\n",
    "datasource_dir = \"datasource\"\n",
    "\n",
    "if not os.path.exists(datasource_dir):\n",
    "    os.makedirs(datasource_dir)\n",
    "\n",
    "dataframe_json = df_overview_status.to_json(safe_slug +\"_overview_status.json\")"
   ]
  }
 ],
 "metadata": {
  "kernelspec": {
   "display_name": "Python 3",
   "language": "python",
   "name": "python3"
  },
  "language_info": {
   "codemirror_mode": {
    "name": "ipython",
    "version": 3
   },
   "file_extension": ".py",
   "mimetype": "text/x-python",
   "name": "python",
   "nbconvert_exporter": "python",
   "pygments_lexer": "ipython3",
   "version": "3.13.0"
  }
 },
 "nbformat": 4,
 "nbformat_minor": 2
}
