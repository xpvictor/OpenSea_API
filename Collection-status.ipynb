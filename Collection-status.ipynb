{
 "cells": [
  {
   "cell_type": "code",
   "execution_count": 2,
   "metadata": {},
   "outputs": [],
   "source": [
    "import requests\n",
    "import json\n",
    "import pandas as pd\n",
    "import time\n",
    "from dotenv import load_dotenv\n",
    "import os \n",
    "import re\n"
   ]
  },
  {
   "cell_type": "code",
   "execution_count": 10,
   "metadata": {},
   "outputs": [],
   "source": [
    "load_dotenv()\n",
    "slug_collection = 'boredape-baseclub'\n",
    "api_key = os.getenv('api_key')\n",
    "\n",
    "url_stats = f'https://api.opensea.io/api/v2/collections/{slug_collection}/stats'\n",
    "url_nft_overview = f\"https://api.opensea.io/api/v2/collections/{slug_collection}\"\n",
    "headers = {\n",
    "    \"accept\" : \"application/json\",\n",
    "    \"x-api-key\": api_key\n",
    "}"
   ]
  },
  {
   "cell_type": "markdown",
   "metadata": {},
   "source": [
    "<h5> Request stats"
   ]
  },
  {
   "cell_type": "code",
   "execution_count": 6,
   "metadata": {},
   "outputs": [
    {
     "name": "stdout",
     "output_type": "stream",
     "text": [
      "{'total': {'volume': 60.53499194139634, 'sales': 16534, 'average_price': 0.003661243010850148, 'num_owners': 593, 'market_cap': 45.513550007999996, 'floor_price': 0.005949999998899, 'floor_price_symbol': 'ETH'}, 'intervals': [{'interval': 'one_day', 'volume': 0.0, 'volume_diff': 0.0, 'volume_change': 0.0, 'sales': 0, 'sales_diff': 0.0, 'average_price': 0.0}, {'interval': 'seven_day', 'volume': 0.04554999, 'volume_diff': -20.0, 'volume_change': -0.7900517103441357, 'sales': 10, 'sales_diff': 0.0, 'average_price': 0.004554999}, {'interval': 'thirty_day', 'volume': 0.7483459979886802, 'volume_diff': -120.0, 'volume_change': -0.6078102158771842, 'sales': 115, 'sales_diff': 0.0, 'average_price': 0.006507356504249393}]}\n"
     ]
    }
   ],
   "source": [
    "try:\n",
    "    response_stats = requests.get(url_stats, headers=headers).json()\n",
    "    #response.raise_for_status()\n",
    "    print(response_stats)\n",
    "except requests.exceptions.RequestException as e:\n",
    "    print(f\"Erro na requisição: {e}\")\n",
    "    "
   ]
  },
  {
   "cell_type": "markdown",
   "metadata": {},
   "source": [
    "<h5> Request nft collection overview"
   ]
  },
  {
   "cell_type": "code",
   "execution_count": 12,
   "metadata": {},
   "outputs": [
    {
     "name": "stdout",
     "output_type": "stream",
     "text": [
      "{'collection': 'boredape-baseclub', 'name': 'Bored Ape Base Club', 'description': 'Bored Ape Base Club | 🎁[$BABC](https://x.com/oxboredapebc) | [$BBKC](https://x.com/oxboredapebc)🎁 | Bored Base Kennel Club', 'image_url': 'https://i.seadn.io/s/raw/files/afb4939e07f432a7803974d2b8b3c72c.gif?w=500&auto=format', 'banner_image_url': 'https://i.seadn.io/s/primary-drops/0x0be0bb1097f4465b17b1ac3b22b5427d9cbf6d2c/31864168:about:media:992eb49c-6dd6-4d14-abe1-654d8ce71574.png?w=500&auto=format', 'owner': '0xd954bb185991e0e11b90704f35beec3ce54078d2', 'safelist_status': 'verified', 'category': 'pfps', 'is_disabled': False, 'is_nsfw': False, 'trait_offers_enabled': True, 'collection_offers_enabled': True, 'opensea_url': 'https://opensea.io/collection/boredape-baseclub', 'project_url': '', 'wiki_url': '', 'discord_url': '', 'telegram_url': '', 'twitter_username': 'OxBoredApeBC', 'instagram_username': 'boredapebaseclub', 'contracts': [{'address': '0x0be0bb1097f4465b17b1ac3b22b5427d9cbf6d2c', 'chain': 'base'}], 'editors': ['0xd954bb185991e0e11b90704f35beec3ce54078d2'], 'fees': [{'fee': 2.5, 'recipient': '0x0000a26b00c1f0df003000390027140000faa719', 'required': True}, {'fee': 5.0, 'recipient': '0xd954bb185991e0e11b90704f35beec3ce54078d2', 'required': True}], 'required_zone': '0x000056f7000000ece9003ca63978907a00ffd100', 'rarity': {'strategy_id': 'openrarity', 'strategy_version': '0.7.5', 'calculated_at': '2025-01-01T12:07:13.444973', 'max_rank': 9963, 'tokens_scored': 9963}, 'total_supply': 9992, 'created_date': '2024-04-15'}\n"
     ]
    }
   ],
   "source": [
    "try:\n",
    "    response_overview = requests.get(url_nft_overview, headers=headers).json()\n",
    "    #response.raise_for_status()\n",
    "    print(response_overview)\n",
    "except requests.exceptions.RequestException as e:\n",
    "    print(f\"Erro na requisição: {e}\")\n",
    "    "
   ]
  },
  {
   "cell_type": "markdown",
   "metadata": {},
   "source": [
    "<p> Creating dataframe with collection stats"
   ]
  },
  {
   "cell_type": "code",
   "execution_count": 7,
   "metadata": {},
   "outputs": [
    {
     "data": {
      "text/html": [
       "<div>\n",
       "<style scoped>\n",
       "    .dataframe tbody tr th:only-of-type {\n",
       "        vertical-align: middle;\n",
       "    }\n",
       "\n",
       "    .dataframe tbody tr th {\n",
       "        vertical-align: top;\n",
       "    }\n",
       "\n",
       "    .dataframe thead th {\n",
       "        text-align: right;\n",
       "    }\n",
       "</style>\n",
       "<table border=\"1\" class=\"dataframe\">\n",
       "  <thead>\n",
       "    <tr style=\"text-align: right;\">\n",
       "      <th></th>\n",
       "      <th>volume</th>\n",
       "      <th>sales</th>\n",
       "      <th>average_price</th>\n",
       "      <th>num_owners</th>\n",
       "      <th>market_cap</th>\n",
       "      <th>floor_price</th>\n",
       "      <th>floor_price_symbol</th>\n",
       "      <th>volume - USD</th>\n",
       "      <th>floor_price - USD</th>\n",
       "      <th>collection</th>\n",
       "    </tr>\n",
       "  </thead>\n",
       "  <tbody>\n",
       "    <tr>\n",
       "      <th>0</th>\n",
       "      <td>60.534992</td>\n",
       "      <td>16534</td>\n",
       "      <td>0.003661</td>\n",
       "      <td>593</td>\n",
       "      <td>45.51355</td>\n",
       "      <td>0.00595</td>\n",
       "      <td>ETH</td>\n",
       "      <td>159673.15</td>\n",
       "      <td>15.69</td>\n",
       "      <td>boredape-baseclub</td>\n",
       "    </tr>\n",
       "  </tbody>\n",
       "</table>\n",
       "</div>"
      ],
      "text/plain": [
       "      volume  sales  average_price  num_owners  market_cap  floor_price  \\\n",
       "0  60.534992  16534       0.003661         593    45.51355      0.00595   \n",
       "\n",
       "  floor_price_symbol  volume - USD  floor_price - USD         collection  \n",
       "0                ETH     159673.15              15.69  boredape-baseclub  "
      ]
     },
     "metadata": {},
     "output_type": "display_data"
    }
   ],
   "source": [
    "df_total_status = pd.json_normalize(response_stats['total'])\n",
    "#$2,637.70 USD (ETH price 2025-02-09)\n",
    "eth_price = 2637.7\n",
    "df_total_status['volume - USD'] = (df_total_status['volume'] * eth_price).round(2)\n",
    "df_total_status ['floor_price - USD'] = (df_total_status['floor_price'] * eth_price).round(2)\n",
    "df_total_status['collection'] = slug_collection\n",
    "display(df_total_status)"
   ]
  },
  {
   "cell_type": "markdown",
   "metadata": {},
   "source": [
    "<p> Creating dataframe with collection overview"
   ]
  },
  {
   "cell_type": "code",
   "execution_count": 14,
   "metadata": {},
   "outputs": [
    {
     "data": {
      "text/html": [
       "<div>\n",
       "<style scoped>\n",
       "    .dataframe tbody tr th:only-of-type {\n",
       "        vertical-align: middle;\n",
       "    }\n",
       "\n",
       "    .dataframe tbody tr th {\n",
       "        vertical-align: top;\n",
       "    }\n",
       "\n",
       "    .dataframe thead th {\n",
       "        text-align: right;\n",
       "    }\n",
       "</style>\n",
       "<table border=\"1\" class=\"dataframe\">\n",
       "  <thead>\n",
       "    <tr style=\"text-align: right;\">\n",
       "      <th></th>\n",
       "      <th>collection</th>\n",
       "      <th>name</th>\n",
       "      <th>description</th>\n",
       "      <th>image_url</th>\n",
       "      <th>banner_image_url</th>\n",
       "      <th>owner</th>\n",
       "      <th>safelist_status</th>\n",
       "      <th>category</th>\n",
       "      <th>is_disabled</th>\n",
       "      <th>is_nsfw</th>\n",
       "      <th>...</th>\n",
       "      <th>editors</th>\n",
       "      <th>fees</th>\n",
       "      <th>required_zone</th>\n",
       "      <th>total_supply</th>\n",
       "      <th>created_date</th>\n",
       "      <th>rarity.strategy_id</th>\n",
       "      <th>rarity.strategy_version</th>\n",
       "      <th>rarity.calculated_at</th>\n",
       "      <th>rarity.max_rank</th>\n",
       "      <th>rarity.tokens_scored</th>\n",
       "    </tr>\n",
       "  </thead>\n",
       "  <tbody>\n",
       "    <tr>\n",
       "      <th>0</th>\n",
       "      <td>boredape-baseclub</td>\n",
       "      <td>Bored Ape Base Club</td>\n",
       "      <td>Bored Ape Base Club | 🎁[$BABC](https://x.com/o...</td>\n",
       "      <td>https://i.seadn.io/s/raw/files/afb4939e07f432a...</td>\n",
       "      <td>https://i.seadn.io/s/primary-drops/0x0be0bb109...</td>\n",
       "      <td>0xd954bb185991e0e11b90704f35beec3ce54078d2</td>\n",
       "      <td>verified</td>\n",
       "      <td>pfps</td>\n",
       "      <td>False</td>\n",
       "      <td>False</td>\n",
       "      <td>...</td>\n",
       "      <td>[0xd954bb185991e0e11b90704f35beec3ce54078d2]</td>\n",
       "      <td>[{'fee': 2.5, 'recipient': '0x0000a26b00c1f0df...</td>\n",
       "      <td>0x000056f7000000ece9003ca63978907a00ffd100</td>\n",
       "      <td>9992</td>\n",
       "      <td>2024-04-15</td>\n",
       "      <td>openrarity</td>\n",
       "      <td>0.7.5</td>\n",
       "      <td>2025-01-01T12:07:13.444973</td>\n",
       "      <td>9963</td>\n",
       "      <td>9963</td>\n",
       "    </tr>\n",
       "  </tbody>\n",
       "</table>\n",
       "<p>1 rows × 30 columns</p>\n",
       "</div>"
      ],
      "text/plain": [
       "          collection                 name  \\\n",
       "0  boredape-baseclub  Bored Ape Base Club   \n",
       "\n",
       "                                         description  \\\n",
       "0  Bored Ape Base Club | 🎁[$BABC](https://x.com/o...   \n",
       "\n",
       "                                           image_url  \\\n",
       "0  https://i.seadn.io/s/raw/files/afb4939e07f432a...   \n",
       "\n",
       "                                    banner_image_url  \\\n",
       "0  https://i.seadn.io/s/primary-drops/0x0be0bb109...   \n",
       "\n",
       "                                        owner safelist_status category  \\\n",
       "0  0xd954bb185991e0e11b90704f35beec3ce54078d2        verified     pfps   \n",
       "\n",
       "   is_disabled  is_nsfw  ...                                       editors  \\\n",
       "0        False    False  ...  [0xd954bb185991e0e11b90704f35beec3ce54078d2]   \n",
       "\n",
       "                                                fees  \\\n",
       "0  [{'fee': 2.5, 'recipient': '0x0000a26b00c1f0df...   \n",
       "\n",
       "                                required_zone total_supply created_date  \\\n",
       "0  0x000056f7000000ece9003ca63978907a00ffd100         9992   2024-04-15   \n",
       "\n",
       "  rarity.strategy_id rarity.strategy_version        rarity.calculated_at  \\\n",
       "0         openrarity                   0.7.5  2025-01-01T12:07:13.444973   \n",
       "\n",
       "  rarity.max_rank rarity.tokens_scored  \n",
       "0            9963                 9963  \n",
       "\n",
       "[1 rows x 30 columns]"
      ]
     },
     "metadata": {},
     "output_type": "display_data"
    }
   ],
   "source": [
    "df_overview = pd.json_normalize(response_overview)\n",
    "display(df_overview)"
   ]
  },
  {
   "cell_type": "code",
   "execution_count": null,
   "metadata": {},
   "outputs": [
    {
     "data": {
      "text/html": [
       "<div>\n",
       "<style scoped>\n",
       "    .dataframe tbody tr th:only-of-type {\n",
       "        vertical-align: middle;\n",
       "    }\n",
       "\n",
       "    .dataframe tbody tr th {\n",
       "        vertical-align: top;\n",
       "    }\n",
       "\n",
       "    .dataframe thead th {\n",
       "        text-align: right;\n",
       "    }\n",
       "</style>\n",
       "<table border=\"1\" class=\"dataframe\">\n",
       "  <thead>\n",
       "    <tr style=\"text-align: right;\">\n",
       "      <th></th>\n",
       "      <th>volume</th>\n",
       "      <th>sales</th>\n",
       "      <th>average_price</th>\n",
       "      <th>num_owners</th>\n",
       "      <th>market_cap</th>\n",
       "      <th>floor_price</th>\n",
       "      <th>floor_price_symbol</th>\n",
       "      <th>volume - USD</th>\n",
       "      <th>floor_price - USD</th>\n",
       "      <th>collection</th>\n",
       "      <th>...</th>\n",
       "      <th>editors</th>\n",
       "      <th>fees</th>\n",
       "      <th>required_zone</th>\n",
       "      <th>total_supply</th>\n",
       "      <th>created_date</th>\n",
       "      <th>rarity.strategy_id</th>\n",
       "      <th>rarity.strategy_version</th>\n",
       "      <th>rarity.calculated_at</th>\n",
       "      <th>rarity.max_rank</th>\n",
       "      <th>rarity.tokens_scored</th>\n",
       "    </tr>\n",
       "  </thead>\n",
       "  <tbody>\n",
       "    <tr>\n",
       "      <th>0</th>\n",
       "      <td>60.534992</td>\n",
       "      <td>16534</td>\n",
       "      <td>0.003661</td>\n",
       "      <td>593</td>\n",
       "      <td>45.51355</td>\n",
       "      <td>0.00595</td>\n",
       "      <td>ETH</td>\n",
       "      <td>159673.15</td>\n",
       "      <td>15.69</td>\n",
       "      <td>boredape-baseclub</td>\n",
       "      <td>...</td>\n",
       "      <td>[0xd954bb185991e0e11b90704f35beec3ce54078d2]</td>\n",
       "      <td>[{'fee': 2.5, 'recipient': '0x0000a26b00c1f0df...</td>\n",
       "      <td>0x000056f7000000ece9003ca63978907a00ffd100</td>\n",
       "      <td>9992</td>\n",
       "      <td>2024-04-15</td>\n",
       "      <td>openrarity</td>\n",
       "      <td>0.7.5</td>\n",
       "      <td>2025-01-01T12:07:13.444973</td>\n",
       "      <td>9963</td>\n",
       "      <td>9963</td>\n",
       "    </tr>\n",
       "  </tbody>\n",
       "</table>\n",
       "<p>1 rows × 39 columns</p>\n",
       "</div>"
      ],
      "text/plain": [
       "      volume  sales  average_price  num_owners  market_cap  floor_price  \\\n",
       "0  60.534992  16534       0.003661         593    45.51355      0.00595   \n",
       "\n",
       "  floor_price_symbol  volume - USD  floor_price - USD         collection  ...  \\\n",
       "0                ETH     159673.15              15.69  boredape-baseclub  ...   \n",
       "\n",
       "                                        editors  \\\n",
       "0  [0xd954bb185991e0e11b90704f35beec3ce54078d2]   \n",
       "\n",
       "                                                fees  \\\n",
       "0  [{'fee': 2.5, 'recipient': '0x0000a26b00c1f0df...   \n",
       "\n",
       "                                required_zone total_supply created_date  \\\n",
       "0  0x000056f7000000ece9003ca63978907a00ffd100         9992   2024-04-15   \n",
       "\n",
       "  rarity.strategy_id rarity.strategy_version        rarity.calculated_at  \\\n",
       "0         openrarity                   0.7.5  2025-01-01T12:07:13.444973   \n",
       "\n",
       "   rarity.max_rank  rarity.tokens_scored  \n",
       "0             9963                  9963  \n",
       "\n",
       "[1 rows x 39 columns]"
      ]
     },
     "execution_count": 15,
     "metadata": {},
     "output_type": "execute_result"
    }
   ],
   "source": [
    "df_overview_status = df_total_status.merge(df_overview, on=\"collection\",how=\"left\")\n"
   ]
  },
  {
   "cell_type": "code",
   "execution_count": null,
   "metadata": {},
   "outputs": [],
   "source": [
    "def sanitize_filename(name):\n",
    "    return re.sub(r'[\\\\/:*?\"<>|]', '', name)\n",
    "\n",
    "safe_slug = sanitize_filename(slug_collection)\n",
    "\n",
    "datasource_dir = \"datasource\"\n",
    "\n",
    "if not os.path.exists(datasource_dir):\n",
    "    os.makedirs(datasource_dir)\n",
    "\n",
    "dataframe_json = df_overview_status.to_json(safe_slug +\"_overview_status.json\")"
   ]
  }
 ],
 "metadata": {
  "kernelspec": {
   "display_name": "Python 3",
   "language": "python",
   "name": "python3"
  },
  "language_info": {
   "codemirror_mode": {
    "name": "ipython",
    "version": 3
   },
   "file_extension": ".py",
   "mimetype": "text/x-python",
   "name": "python",
   "nbconvert_exporter": "python",
   "pygments_lexer": "ipython3",
   "version": "3.13.0"
  }
 },
 "nbformat": 4,
 "nbformat_minor": 2
}
