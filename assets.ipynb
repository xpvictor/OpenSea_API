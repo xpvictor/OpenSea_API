{
 "cells": [
  {
   "cell_type": "code",
   "execution_count": 3,
   "metadata": {},
   "outputs": [],
   "source": [
    "import requests\n",
    "import json\n",
    "import pandas as pd\n",
    "from pyspark.sql.functions import col, explode_outer\n",
    "from opensea import OpenseaAPI\n"
   ]
  },
  {
   "cell_type": "code",
   "execution_count": 4,
   "metadata": {},
   "outputs": [],
   "source": [
    "slug_collection = 'boredape-baseclub'\n",
    "\n",
    "\n",
    "url = f'https://api.opensea.io/api/v2/collection/{slug_collection}/nfts?imit=200'\n",
    "\n",
    "api_key = '0e3fb24ae2554e6083584b725341146c'\n",
    "\n",
    "headers = {\n",
    "    \"accept\": \"application/json\",\n",
    "    \"x-api-key\": \"0e3fb24ae2554e6083584b725341146c\"\n",
    "}\n",
    "\n",
    "response = requests.get(url, headers=headers).json()\n",
    "#next_values = response['next'] #Coletando o valor de next\n",
    "\n",
    "df_nft = pd.json_normalize(response['nfts'])\n",
    "\n"
   ]
  },
  {
   "cell_type": "code",
   "execution_count": 7,
   "metadata": {},
   "outputs": [],
   "source": [
    "def requisicao_completa():\n",
    "    df=pd.DataFrame() #dataframe vazio\n",
    "    df_inicial = df_nft #dataframe com o valor da primeira requisição\n",
    "    valor_anterior = None\n",
    "    valor_coletado =  response.get('next') #valor da próxima chave\n",
    "\n",
    "    while valor_anterior != valor_coletado:\n",
    "        url_request = url + f'&next={valor_coletado}'\n",
    "        response_request = requests.get(url_request, headers=headers).json()\n",
    "        \n",
    "        #novo_df = pd.json_normalize(response_request['nfts'])\n",
    "        #df = pd.concat([df_inicial, novo_df], ignore_index=True)\n",
    "\n",
    "        #valor_anterior = valor_coletado\n",
    "        #valor_coletado = response_request.get('next')        \n",
    "    return print(response_request) "
   ]
  },
  {
   "cell_type": "code",
   "execution_count": 9,
   "metadata": {},
   "outputs": [
    {
     "name": "stdout",
     "output_type": "stream",
     "text": [
      "LXBrPTE4ODI3MTg3NTQ=\n"
     ]
    }
   ],
   "source": [
    "valor_coletado =  response.get('next')\n",
    "print(valor_coletado)"
   ]
  },
  {
   "cell_type": "markdown",
   "metadata": {},
   "source": [
    "#back up caso de merda\n",
    "def requisicao_completa():\n",
    "    df=pd.DataFrame() #dataframe vazio\n",
    "    df_inicial = df_nft #dataframe com o valor da primeira requisição\n",
    "    valor_anterior = response.get('next') #valor da próxima chave\n",
    "    #valor_coletado = None\n",
    "\n",
    "    while True:\n",
    "        url_request = url + f'&next={valor_anterior}'\n",
    "        response_request = requests.get(url_request, headers=headers).json()\n",
    "        novo_df = pd.json_normalize(response_request['nfts'])\n",
    "        df = pd.concat([df_inicial, novo_df], ignore_index=True)\n",
    "\n",
    "        valor_anterior = response_request.get('next')\n",
    "        if not valor_anterior:\n",
    "            break\n",
    "    return df "
   ]
  }
 ],
 "metadata": {
  "kernelspec": {
   "display_name": "Python 3",
   "language": "python",
   "name": "python3"
  },
  "language_info": {
   "codemirror_mode": {
    "name": "ipython",
    "version": 3
   },
   "file_extension": ".py",
   "mimetype": "text/x-python",
   "name": "python",
   "nbconvert_exporter": "python",
   "pygments_lexer": "ipython3",
   "version": "3.13.0"
  }
 },
 "nbformat": 4,
 "nbformat_minor": 2
}
