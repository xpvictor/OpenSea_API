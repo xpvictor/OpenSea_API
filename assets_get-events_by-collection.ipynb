{
 "cells": [
  {
   "cell_type": "code",
   "execution_count": 1,
   "metadata": {},
   "outputs": [],
   "source": [
    "import requests\n",
    "import json\n",
    "import pandas as pd\n",
    "import time\n",
    "from dotenv import load_dotenv\n",
    "import os\n",
    "import re"
   ]
  },
  {
   "cell_type": "code",
   "execution_count": 30,
   "metadata": {},
   "outputs": [],
   "source": [
    "load_dotenv() #add external key request for user access\n",
    "\n",
    "slug_collection = 'boredape-baseclub'\n",
    "initial_token = 'LWV2ZW50X3RpbWVzdGFtcD0yMDI1LTAyLTExKzEyJTNBMTQlM0EzNi40NzQ4ODkmLWV2ZW50X3R5cGU9Y29sbGVjdGlvbl9vZmZlciYtcGs9MzE5Nzc0MTM2Nzk='\n",
    " #first pagination \n",
    "event_type = 'order'\n",
    "limit_request = 50\n",
    "\n",
    "url = f'https://api.opensea.io/api/v2/events/collection/{slug_collection}?event_type={event_type}&limit={limit_request}'\n",
    "api_key = os.getenv('api_key')\n",
    "\n",
    "headers = {\n",
    "  \"accept\": \"application/json\",\n",
    "    \"x-api-key\": api_key  \n",
    "}"
   ]
  },
  {
   "cell_type": "code",
   "execution_count": 33,
   "metadata": {},
   "outputs": [],
   "source": [
    "def main_request(url, pagination_token, headers): \n",
    "    try:\n",
    "        response = requests.get(url + f'&next={pagination_token}', headers=headers)\n",
    "        response.raise_for_status()\n",
    "        return response.json()\n",
    "    except requests.exceptions.RequestException as e:\n",
    "        print(f\"Erro na requisição: {e}\")\n",
    "        return None"
   ]
  },
  {
   "cell_type": "code",
   "execution_count": 35,
   "metadata": {},
   "outputs": [
    {
     "name": "stdout",
     "output_type": "stream",
     "text": [
      "Pausa de 10 segundos após 50 requisições\n",
      "Pausa de 10 segundos após 50 requisições\n",
      "Pausa de 10 segundos após 50 requisições\n",
      "Pausa de 10 segundos após 50 requisições\n",
      "Pausa de 10 segundos após 50 requisições\n",
      "Pausa de 10 segundos após 50 requisições\n",
      "Pausa de 10 segundos após 50 requisições\n",
      "Pausa de 10 segundos após 50 requisições\n",
      "Pausa de 10 segundos após 50 requisições\n",
      "Pausa de 10 segundos após 50 requisições\n",
      "Pausa de 10 segundos após 50 requisições\n",
      "Pausa de 10 segundos após 50 requisições\n",
      "Pausa de 10 segundos após 50 requisições\n",
      "Pausa de 10 segundos após 50 requisições\n",
      "Pausa de 10 segundos após 50 requisições\n",
      "Pausa de 10 segundos após 50 requisições\n",
      "Pausa de 10 segundos após 50 requisições\n",
      "Pausa de 10 segundos após 50 requisições\n",
      "Pausa de 10 segundos após 50 requisições\n",
      "Pausa de 10 segundos após 50 requisições\n",
      "Pausa de 10 segundos após 50 requisições\n",
      "Pausa de 10 segundos após 50 requisições\n",
      "Pausa de 10 segundos após 50 requisições\n",
      "Pausa de 10 segundos após 50 requisições\n",
      "Erro na requisição: 524 Server Error:  for url: https://api.opensea.io/api/v2/events/collection/boredape-baseclub?event_type=order&limit=50&next=LWV2ZW50X3RpbWVzdGFtcD0yMDI0LTA3LTEwKzIxJTNBMjclM0EzNC4zOTc1MzgmLWV2ZW50X3R5cGU9Y3JlYXRlZCYtcGs9MjQyMjY5NjEzMTE=\n",
      "1210\n"
     ]
    }
   ],
   "source": [
    "def fetch_all_paginations(initial_token, url, headers, max_requests=50, delay=10):\n",
    "    pagination_tokens = [initial_token]\n",
    "    current_token = initial_token\n",
    "    request_count = 0\n",
    "\n",
    "    while True:\n",
    "        data = main_request(url,current_token, headers)\n",
    "\n",
    "        if not data or 'next' not in data:\n",
    "            break\n",
    "\n",
    "        next_token = data['next']\n",
    "\n",
    "        if not next_token or next_token == current_token:\n",
    "            break\n",
    "\n",
    "        pagination_tokens.append(next_token)\n",
    "        current_token = next_token\n",
    "        request_count +=1\n",
    "\n",
    "        if request_count % max_requests == 0:\n",
    "            print(f\"Pausa de {delay} segundos após {max_requests} requisições\")\n",
    "            time.sleep(delay)\n",
    "\n",
    "    return pagination_tokens\n",
    "\n",
    "all_tokens = fetch_all_paginations(\n",
    "    initial_token = initial_token,\n",
    "    url = url,\n",
    "    headers= headers,\n",
    "    max_requests=50,\n",
    "    delay=10\n",
    ")\n",
    "\n",
    "print(len(all_tokens))\n",
    "\n"
   ]
  }
 ],
 "metadata": {
  "kernelspec": {
   "display_name": "Python 3",
   "language": "python",
   "name": "python3"
  },
  "language_info": {
   "codemirror_mode": {
    "name": "ipython",
    "version": 3
   },
   "file_extension": ".py",
   "mimetype": "text/x-python",
   "name": "python",
   "nbconvert_exporter": "python",
   "pygments_lexer": "ipython3",
   "version": "3.13.0"
  }
 },
 "nbformat": 4,
 "nbformat_minor": 2
}
